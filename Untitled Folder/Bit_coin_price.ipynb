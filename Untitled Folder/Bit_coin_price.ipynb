{
 "cells": [
  {
   "cell_type": "code",
   "execution_count": 6,
   "id": "9abd7db7",
   "metadata": {},
   "outputs": [
    {
     "name": "stdout",
     "output_type": "stream",
     "text": [
      "Accuracy: 88.445928565834\n"
     ]
    },
    {
     "data": {
      "text/html": [
       "<div>\n",
       "<style scoped>\n",
       "    .dataframe tbody tr th:only-of-type {\n",
       "        vertical-align: middle;\n",
       "    }\n",
       "\n",
       "    .dataframe tbody tr th {\n",
       "        vertical-align: top;\n",
       "    }\n",
       "\n",
       "    .dataframe thead th {\n",
       "        text-align: right;\n",
       "    }\n",
       "</style>\n",
       "<table border=\"1\" class=\"dataframe\">\n",
       "  <thead>\n",
       "    <tr style=\"text-align: right;\">\n",
       "      <th></th>\n",
       "      <th>Price</th>\n",
       "      <th>Prediction</th>\n",
       "    </tr>\n",
       "  </thead>\n",
       "  <tbody>\n",
       "    <tr>\n",
       "      <th>0</th>\n",
       "      <td>6719.429231</td>\n",
       "      <td>6639.304167</td>\n",
       "    </tr>\n",
       "    <tr>\n",
       "      <th>1</th>\n",
       "      <td>6673.274167</td>\n",
       "      <td>6412.459167</td>\n",
       "    </tr>\n",
       "    <tr>\n",
       "      <th>2</th>\n",
       "      <td>6719.266154</td>\n",
       "      <td>6468.631667</td>\n",
       "    </tr>\n",
       "    <tr>\n",
       "      <th>3</th>\n",
       "      <td>7000.040000</td>\n",
       "      <td>6535.476667</td>\n",
       "    </tr>\n",
       "    <tr>\n",
       "      <th>4</th>\n",
       "      <td>7054.276429</td>\n",
       "      <td>6677.342500</td>\n",
       "    </tr>\n",
       "  </tbody>\n",
       "</table>\n",
       "</div>"
      ],
      "text/plain": [
       "         Price   Prediction\n",
       "0  6719.429231  6639.304167\n",
       "1  6673.274167  6412.459167\n",
       "2  6719.266154  6468.631667\n",
       "3  7000.040000  6535.476667\n",
       "4  7054.276429  6677.342500"
      ]
     },
     "execution_count": 6,
     "metadata": {},
     "output_type": "execute_result"
    }
   ],
   "source": [
    "import pandas as pd\n",
    "import numpy as np\n",
    "from sklearn.model_selection import train_test_split\n",
    "from sklearn.ensemble import RandomForestRegressor\n",
    "\n",
    "df = pd.read_csv('BitcoinPrice.csv')\n",
    "\n",
    "df.drop(['Date'], axis=1, inplace=True)\n",
    "\n",
    "pdays = 30\n",
    "\n",
    "df['Prediction'] = df['Price'].shift(-pdays)\n",
    "\n",
    "X = df.drop(['Prediction'], axis=1).values[:-pdays]\n",
    "y = df['Prediction'].values[:-pdays]\n",
    "\n",
    "X_train, X_test, y_train, y_test = train_test_split(X, y, test_size=0.2, random_state=1)\n",
    "\n",
    "rf = RandomForestRegressor(n_estimators=1000, random_state=1)\n",
    "\n",
    "rf.fit(X_train, y_train)\n",
    "\n",
    "accuracy = rf.score(X_test, y_test)\n",
    "print('Accuracy:', accuracy * 100)\n",
    "\n",
    "p_days_array = df.drop(['Prediction'], axis=1).values[-pdays:]\n",
    "rf_pred = rf.predict(p_days_array)\n",
    "\n",
    "predicted_data = pd.DataFrame({'Predicted_Price': rf_pred})\n",
    "\n",
    "df.head()\n"
   ]
  },
  {
   "cell_type": "code",
   "execution_count": null,
   "id": "39323c86",
   "metadata": {},
   "outputs": [],
   "source": []
  }
 ],
 "metadata": {
  "kernelspec": {
   "display_name": "Python 3 (ipykernel)",
   "language": "python",
   "name": "python3"
  },
  "language_info": {
   "codemirror_mode": {
    "name": "ipython",
    "version": 3
   },
   "file_extension": ".py",
   "mimetype": "text/x-python",
   "name": "python",
   "nbconvert_exporter": "python",
   "pygments_lexer": "ipython3",
   "version": "3.11.4"
  }
 },
 "nbformat": 4,
 "nbformat_minor": 5
}
